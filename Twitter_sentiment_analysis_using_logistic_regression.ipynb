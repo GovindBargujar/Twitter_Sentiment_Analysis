{
  "nbformat": 4,
  "nbformat_minor": 0,
  "metadata": {
    "colab": {
      "provenance": []
    },
    "kernelspec": {
      "name": "python3",
      "display_name": "Python 3"
    },
    "language_info": {
      "name": "python"
    }
  },
  "cells": [
    {
      "cell_type": "code",
      "execution_count": 108,
      "metadata": {
        "colab": {
          "base_uri": "https://localhost:8080/"
        },
        "id": "6s7Xg0cceoLB",
        "outputId": "7db9c013-683e-4ef4-e5bc-7831ca51c321"
      },
      "outputs": [
        {
          "output_type": "stream",
          "name": "stderr",
          "text": [
            "[nltk_data] Downloading package wordnet to /root/nltk_data...\n",
            "[nltk_data]   Package wordnet is already up-to-date!\n",
            "[nltk_data] Downloading package omw-1.4 to /root/nltk_data...\n",
            "[nltk_data]   Package omw-1.4 is already up-to-date!\n"
          ]
        },
        {
          "output_type": "execute_result",
          "data": {
            "text/plain": [
              "True"
            ]
          },
          "metadata": {},
          "execution_count": 108
        }
      ],
      "source": [
        "import re\n",
        "import pandas as pd\n",
        "from nltk.tokenize import RegexpTokenizer\n",
        "from nltk.stem import WordNetLemmatizer\n",
        "from nltk.corpus import wordnet\n",
        "from sklearn.model_selection import train_test_split\n",
        "from sklearn.feature_extraction.text import TfidfVectorizer\n",
        "from sklearn.linear_model import LogisticRegression\n",
        "from sklearn.metrics import confusion_matrix, classification_report,  roc_curve, auc\n",
        "import nltk\n",
        "import matplotlib.pyplot as plt\n",
        "import seaborn as sns\n",
        "import numpy as np\n",
        "\n",
        "# Ensure NLTK resources are downloaded\n",
        "nltk.download('wordnet')\n",
        "nltk.download('omw-1.4')"
      ]
    },
    {
      "cell_type": "code",
      "source": [
        "# Step 1: Load the dataset\n",
        "DATASET_COLUMNS=['target','ids','date','flag','user','text']\n",
        "DATASET_ENCODING = \"ISO-8859-1\"\n",
        "df = pd.read_csv('sentiment140.csv', encoding=DATASET_ENCODING, names=DATASET_COLUMNS)"
      ],
      "metadata": {
        "id": "ZRiKpgA5e-ZR"
      },
      "execution_count": 109,
      "outputs": []
    },
    {
      "cell_type": "code",
      "source": [
        "print(\"Unique value counts in the target column:\")\n",
        "print(df['target'].value_counts())"
      ],
      "metadata": {
        "colab": {
          "base_uri": "https://localhost:8080/"
        },
        "id": "jzFabBAwfkL2",
        "outputId": "7e48c107-0ff8-4336-87ed-40f746d5eeed"
      },
      "execution_count": 110,
      "outputs": [
        {
          "output_type": "stream",
          "name": "stdout",
          "text": [
            "Unique value counts in the target column:\n",
            "target\n",
            "0                     14073\n",
            "orkinglife Ideally        1\n",
            "Name: count, dtype: int64\n"
          ]
        }
      ]
    },
    {
      "cell_type": "code",
      "source": [
        "def clean_text(text):\n",
        "    stopwordlist = [\n",
        "        'a', 'about', 'above', 'after', 'again', 'ain', 'all', 'am', 'an',\n",
        "        'and', 'any', 'are', 'as', 'at', 'be', 'because', 'been', 'before',\n",
        "        'being', 'below', 'between', 'both', 'by', 'can', 'd', 'did', 'do',\n",
        "        'does', 'doing', 'down', 'during', 'each', 'few', 'for', 'from',\n",
        "        'further', 'had', 'has', 'have', 'having', 'he', 'her', 'here',\n",
        "        'hers', 'herself', 'him', 'himself', 'his', 'how', 'i', 'if', 'in',\n",
        "        'into', 'is', 'it', \"it's\", 'its', 'itself', 'just', 'll', 'm', 'ma',\n",
        "        'me', 'more', 'most', 'my', 'myself', 'needn', 'no', 'nor', 'now',\n",
        "        'o', 'of', 'on', 'once', 'only', 'or', 'other', 'our', 'ours', 'ourselves',\n",
        "        'out', 'own', 're', 's', 'same', 'she', \"shes\", 'should', \"shouldve\", 'so', 'some', 'such',\n",
        "        't', 'than', 'that', \"thatll\", 'the', 'their', 'theirs', 'them',\n",
        "        'themselves', 'then', 'there', 'these', 'they', 'this', 'those',\n",
        "        'through', 'to', 'too', 'under', 'until', 'up', 've', 'very', 'was',\n",
        "        'we', 'were', 'what', 'when', 'where', 'which', 'while', 'who', 'whom',\n",
        "        'why', 'will', 'with', 'won', 'y', 'you', \"youd\", \"youll\", \"youre\",\n",
        "        \"youve\", 'your', 'yours', 'yourself', 'yourselves'\n",
        "    ]\n",
        "\n",
        "    # Function to get NLTK POS tag to WordNet POS tag\n",
        "    def get_wordnet_pos(treebank_tag):\n",
        "        if treebank_tag.startswith('J'):\n",
        "            return wordnet.ADJ\n",
        "        elif treebank_tag.startswith('V'):\n",
        "            return wordnet.VERB\n",
        "        elif treebank_tag.startswith('N'):\n",
        "            return wordnet.NOUN\n",
        "        elif treebank_tag.startswith('R'):\n",
        "            return wordnet.ADV\n",
        "        else:\n",
        "            return wordnet.NOUN\n",
        "\n",
        "    # Convert to lowercase\n",
        "    text = text.lower()\n",
        "    # Remove URLs\n",
        "    text = re.sub(r'((www\\.[^\\s]+)|(https?://[^\\s]+))', ' ', text)\n",
        "    # Replace @mentions with 'USER'\n",
        "    text = re.sub(r'@[\\S]+', 'USER', text)\n",
        "    # Remove hashtags but keep the text\n",
        "    text = re.sub(r'#(\\S+)', r'\\1', text)\n",
        "    # Remove digits\n",
        "    text = re.sub(r'\\d+', '', text)\n",
        "    # Remove extra whitespace\n",
        "    text = re.sub(r'\\s+', ' ', text)\n",
        "    # Strip leading and trailing whitespace\n",
        "    text = text.strip()\n",
        "    # Remove stopwords\n",
        "    text = \" \".join([word for word in text.split() if word not in stopwordlist])\n",
        "    # Tokenize text\n",
        "    tokenizer = RegexpTokenizer(r'\\w+|[^\\w\\s]')\n",
        "    tokens = tokenizer.tokenize(text)\n",
        "\n",
        "    # POS tagging\n",
        "    pos_tags = nltk.pos_tag(tokens)\n",
        "\n",
        "    # Lemmatize each token with the appropriate POS tag\n",
        "    lemmatizer = WordNetLemmatizer()\n",
        "    lemmatized_tokens = [lemmatizer.lemmatize(token, get_wordnet_pos(tag)) for token, tag in pos_tags]\n",
        "\n",
        "    return \" \".join(lemmatized_tokens)"
      ],
      "metadata": {
        "id": "w-i9yU6FhcG8"
      },
      "execution_count": 111,
      "outputs": []
    },
    {
      "cell_type": "code",
      "source": [
        "# Replace target values to {0, 1}\n",
        "# df['target'] = df['target'].replace(4, 1)  # Replace 4 with 1\n",
        "# OR (if you want {-1, 1})\n",
        "df['target'] = df['target'].replace({0: -1, 4: 1}) # Replace 0 with -1 and 4 with 1\n",
        "\n",
        "# Preprocess the text data\n",
        "# Convert to lowercase within the apply function\n",
        "df['text'] = df['text'].apply(lambda x: clean_text(x.lower() if isinstance(x, str) else str(x).lower()))\n",
        "\n",
        "\n",
        "# Split the dataset into training and testing sets\n",
        "X_train, X_test, y_train, y_test = train_test_split(df['text'], df['target'], test_size=0.2, random_state=42)"
      ],
      "metadata": {
        "id": "jLxSXCv_he7H"
      },
      "execution_count": 112,
      "outputs": []
    },
    {
      "cell_type": "code",
      "source": [
        "# Initialize the TfidfVectorizer\n",
        "vectorizer = TfidfVectorizer(max_features=500000, ngram_range=(1, 2))\n",
        "\n",
        "# Fit and transform the training data\n",
        "X_train_vect = vectorizer.fit_transform(X_train)\n",
        "\n",
        "# Transform the testing data\n",
        "X_test_vect = vectorizer.transform(X_test)"
      ],
      "metadata": {
        "id": "TvTJN9gLhhRz"
      },
      "execution_count": 113,
      "outputs": []
    },
    {
      "cell_type": "code",
      "source": [
        "# Step 5: Model building and evaluation function\n",
        "def evaluate_model(model):\n",
        "    model.fit(X_train_vect, y_train)\n",
        "    y_pred = model.predict(X_test_vect)\n",
        "    print(classification_report(y_test, y_pred))\n",
        "    cm = confusion_matrix(y_test, y_pred)\n",
        "    sns.heatmap(cm, annot=True, fmt='d', cmap='Blues')\n",
        "    plt.xlabel('Predicted')\n",
        "    plt.ylabel('Actual')\n",
        "    plt.show()\n",
        "\n",
        "    fpr, tpr, _ = roc_curve(y_test, model.predict_proba(X_test_vect)[:, 1], pos_label=1)  # Specify pos_label\n",
        "    plt.plot(fpr, tpr, label='ROC curve (area = %0.2f)' % auc(fpr, tpr))\n",
        "    plt.plot([0, 1], [0, 1], 'k--')\n",
        "    plt.xlabel('False Positive Rate')\n",
        "    plt.ylabel('True Positive Rate')\n",
        "    plt.title('ROC Curve')\n",
        "    plt.legend(loc=\"lower right\")\n",
        "    plt.show()"
      ],
      "metadata": {
        "id": "3Q5GPM3Yib10"
      },
      "execution_count": 114,
      "outputs": []
    },
    {
      "cell_type": "code",
      "source": [
        "# Step 6: Training and evaluating models\n",
        "# Logistic Regression\n",
        "lr_model = LogisticRegression(C = 2, max_iter = 1000, n_jobs=-1)\n",
        "evaluate_model(lr_model)"
      ],
      "metadata": {
        "colab": {
          "base_uri": "https://localhost:8080/",
          "height": 1000
        },
        "id": "SrGPdhidkvAt",
        "outputId": "9ab5edf6-2f4e-4c84-de6f-f12667f2c6b4"
      },
      "execution_count": 115,
      "outputs": [
        {
          "output_type": "stream",
          "name": "stdout",
          "text": [
            "              precision    recall  f1-score   support\n",
            "\n",
            "           0       1.00      1.00      1.00      2815\n",
            "\n",
            "    accuracy                           1.00      2815\n",
            "   macro avg       1.00      1.00      1.00      2815\n",
            "weighted avg       1.00      1.00      1.00      2815\n",
            "\n"
          ]
        },
        {
          "output_type": "stream",
          "name": "stderr",
          "text": [
            "/usr/local/lib/python3.11/dist-packages/sklearn/metrics/_classification.py:407: UserWarning: A single label was found in 'y_true' and 'y_pred'. For the confusion matrix to have the correct shape, use the 'labels' parameter to pass all known labels.\n",
            "  warnings.warn(\n"
          ]
        },
        {
          "output_type": "display_data",
          "data": {
            "text/plain": [
              "<Figure size 640x480 with 2 Axes>"
            ],
            "image/png": "[encoded data removed]"
          },
          "metadata": {}
        },
        {
          "output_type": "stream",
          "name": "stderr",
          "text": [
            "/usr/local/lib/python3.11/dist-packages/sklearn/metrics/_ranking.py:1188: UndefinedMetricWarning: No positive samples in y_true, true positive value should be meaningless\n",
            "  warnings.warn(\n"
          ]
        },
        {
          "output_type": "display_data",
          "data": {
            "text/plain": [
              "<Figure size 640x480 with 1 Axes>"
            ],
            "image/png": "[encoded data removed]"
          },
          "metadata": {}
        }
      ]
    },
    {
      "cell_type": "code",
      "source": [
        "# Example test tweet\n",
        "test_tweet = [\"I hate the new design of your website! It's too bad!\"]\n",
        "\n",
        "test_tweet = [clean_text(test_tweet[0])]\n",
        "# Transform the test tweet using the same vectorizer\n",
        "vectorized_tweet = vectorizer.transform(test_tweet)\n",
        "\n",
        "# Predict the sentiment\n",
        "predicted_sentiment = lr_model.predict(vectorized_tweet)\n",
        "\n",
        "# Output the result\n",
        "print(f\"Predicted Sentiment: {'Positive' if predicted_sentiment[0] == 1 else 'Negative'}\")"
      ],
      "metadata": {
        "colab": {
          "base_uri": "https://localhost:8080/"
        },
        "id": "Ny2VgxsnigdO",
        "outputId": "b0315206-1e30-45db-89b2-fc3fc8438076"
      },
      "execution_count": 117,
      "outputs": [
        {
          "output_type": "stream",
          "name": "stdout",
          "text": [
            "Predicted Sentiment: Negative\n"
          ]
        }
      ]
    }
  ]
}